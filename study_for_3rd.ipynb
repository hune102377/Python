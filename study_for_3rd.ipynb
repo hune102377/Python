{
 "cells": [
  {
   "attachments": {},
   "cell_type": "markdown",
   "metadata": {},
   "source": [
    "1. 문자열 리스트를 입력 받아서 내림차순 결과 가장 낮은 문자열과 가장 높은 문자열을 출력하는 함수를 구현하세요"
   ]
  },
  {
   "cell_type": "code",
   "execution_count": 18,
   "metadata": {},
   "outputs": [],
   "source": [
    "msg = ['Good', 'child', 'Zoo', 'apple', 'Flower', 'zero']\n",
    "\n",
    "def def_01(list_data) :\n",
    "    print('원본 :', list_data)\n",
    "\n",
    "    # 리스트 데이터를 정렬\n",
    "    list_data.sort(reverse=True)\n",
    "\n",
    "    # 정렬된 리스트 데이터를 확인\n",
    "    print('정렬 결과 :', list_data)\n",
    "\n",
    "    #  가장 높은 문자열번째, 가장 낮은 문자열[-1] 출력\n",
    "    print(f'가장 높은 문자열 : {list_data[0]}, 가장 낮은 문자열 : {list_data[-1]}')"
   ]
  },
  {
   "cell_type": "code",
   "execution_count": 19,
   "metadata": {},
   "outputs": [
    {
     "name": "stdout",
     "output_type": "stream",
     "text": [
      "원본 : ['Good', 'child', 'Zoo', 'apple', 'Flower', 'zero']\n",
      "정렬 결과 : ['zero', 'child', 'apple', 'Zoo', 'Good', 'Flower']\n",
      "가장 높은 문자열 : zero, 가장 낮은 문자열 : Flower\n"
     ]
    }
   ],
   "source": [
    "def_01(msg)"
   ]
  },
  {
   "attachments": {},
   "cell_type": "markdown",
   "metadata": {},
   "source": [
    "2. 문자열을 입력하면 UTF-8로 인코딩된 값을 아래와 같은 출력하는 함수를 구현해 주세요."
   ]
  },
  {
   "cell_type": "code",
   "execution_count": 25,
   "metadata": {},
   "outputs": [
    {
     "name": "stdout",
     "output_type": "stream",
     "text": [
      "b'\\xea\\xb0\\x80\\xeb\\x82\\x98\\xeb\\x8b\\xa4'\n"
     ]
    }
   ],
   "source": [
    "data = '가나다'\n",
    "print(data.encode(encoding='utf-8'))"
   ]
  },
  {
   "attachments": {},
   "cell_type": "markdown",
   "metadata": {},
   "source": [
    "3. 숫자와 콤마로만 이루어진 문자열 data가 주어진다. 이때, data에 포함되어 있는 자연수의 합과 가장 작은 수, 가장 큰 수를 출력하는 함수를 구현하세요 "
   ]
  },
  {
   "cell_type": "code",
   "execution_count": 43,
   "metadata": {},
   "outputs": [],
   "source": [
    "data = '123,42,98,18'"
   ]
  },
  {
   "cell_type": "code",
   "execution_count": 55,
   "metadata": {},
   "outputs": [],
   "source": [
    "data = '123,42,98,18'\n",
    "\n",
    "def def_03(data) :\n",
    "    # 콤마 제거\n",
    "    data_01 = data.replace(',', '')\n",
    "\n",
    "    # 데이터를 리스트로 분할\n",
    "    data_01 = list(data_01)\n",
    "\n",
    "    # 리스트 내의 데이터 타입을 int 형으로 변환\n",
    "    data_01 = list(map(int, data_01))\n",
    "\n",
    "    # 리스트의 합\n",
    "    print(f'{data}의 합 : {sum(data_01)}, 가장 큰 수 : {max(data_01)}, 가장 작은 수 : {min(data_01)}')"
   ]
  },
  {
   "cell_type": "code",
   "execution_count": 56,
   "metadata": {},
   "outputs": [
    {
     "name": "stdout",
     "output_type": "stream",
     "text": [
      "123,42,98,18의 합 : 38, 가장 큰 수 : 9, 가장 작은 수 : 1\n"
     ]
    }
   ],
   "source": [
    "def_03(data)"
   ]
  },
  {
   "attachments": {},
   "cell_type": "markdown",
   "metadata": {},
   "source": [
    "data ="
   ]
  }
 ],
 "metadata": {
  "kernelspec": {
   "display_name": "base",
   "language": "python",
   "name": "python3"
  },
  "language_info": {
   "codemirror_mode": {
    "name": "ipython",
    "version": 3
   },
   "file_extension": ".py",
   "mimetype": "text/x-python",
   "name": "python",
   "nbconvert_exporter": "python",
   "pygments_lexer": "ipython3",
   "version": "3.9.13"
  },
  "orig_nbformat": 4,
  "vscode": {
   "interpreter": {
    "hash": "9443f06191f33c49a210e9bea6e98575f8300bbc0c725a319a0dd8a0cc0b7bca"
   }
  }
 },
 "nbformat": 4,
 "nbformat_minor": 2
}
